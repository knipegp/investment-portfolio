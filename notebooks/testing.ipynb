{
 "cells": [
  {
   "cell_type": "markdown",
   "id": "deada3fb-648b-4716-b85a-4bb53593cd52",
   "metadata": {},
   "source": [
    "Walking through the example [here](https://pyportfolioopt.readthedocs.io/en/latest/UserGuide.html#user-guide) with some randomly chosen tickers."
   ]
  },
  {
   "cell_type": "code",
   "execution_count": 2,
   "id": "7a521fb6",
   "metadata": {},
   "outputs": [
    {
     "name": "stderr",
     "output_type": "stream",
     "text": [
      "\u001b[32m2023-10-22 11:25:54.775\u001b[0m | \u001b[1mINFO    \u001b[0m | \u001b[36minvestment_portfolio\u001b[0m:\u001b[36mget_price_history\u001b[0m:\u001b[36m84\u001b[0m - \u001b[1mRetrieving closing prices NFLX, period 5y, interval 1d\u001b[0m\n",
      "\u001b[32m2023-10-22 11:25:54.786\u001b[0m | \u001b[1mINFO    \u001b[0m | \u001b[36minvestment_portfolio\u001b[0m:\u001b[36mget_price_history\u001b[0m:\u001b[36m84\u001b[0m - \u001b[1mRetrieving closing prices GOOG, period 5y, interval 1d\u001b[0m\n",
      "\u001b[32m2023-10-22 11:25:54.801\u001b[0m | \u001b[1mINFO    \u001b[0m | \u001b[36minvestment_portfolio\u001b[0m:\u001b[36mget_price_history\u001b[0m:\u001b[36m84\u001b[0m - \u001b[1mRetrieving closing prices SPOT, period 5y, interval 1d\u001b[0m\n",
      "\u001b[32m2023-10-22 11:25:54.812\u001b[0m | \u001b[1mINFO    \u001b[0m | \u001b[36minvestment_portfolio\u001b[0m:\u001b[36mget_price_history\u001b[0m:\u001b[36m84\u001b[0m - \u001b[1mRetrieving closing prices AMD, period 5y, interval 1d\u001b[0m\n",
      "\u001b[32m2023-10-22 11:25:54.822\u001b[0m | \u001b[1mINFO    \u001b[0m | \u001b[36minvestment_portfolio\u001b[0m:\u001b[36mget_price_history\u001b[0m:\u001b[36m84\u001b[0m - \u001b[1mRetrieving closing prices NVDA, period 5y, interval 1d\u001b[0m\n",
      "\u001b[32m2023-10-22 11:25:54.841\u001b[0m | \u001b[1mINFO    \u001b[0m | \u001b[36minvestment_portfolio\u001b[0m:\u001b[36mget_price_history\u001b[0m:\u001b[36m84\u001b[0m - \u001b[1mRetrieving closing prices INTC, period 5y, interval 1d\u001b[0m\n",
      "\u001b[32m2023-10-22 11:25:54.855\u001b[0m | \u001b[1mINFO    \u001b[0m | \u001b[36minvestment_portfolio\u001b[0m:\u001b[36mget_price_history\u001b[0m:\u001b[36m84\u001b[0m - \u001b[1mRetrieving closing prices ARM, period 5y, interval 1d\u001b[0m\n",
      "\u001b[32m2023-10-22 11:25:54.861\u001b[0m | \u001b[1mINFO    \u001b[0m | \u001b[36minvestment_portfolio\u001b[0m:\u001b[36mget_price_history\u001b[0m:\u001b[36m84\u001b[0m - \u001b[1mRetrieving closing prices SONY, period 5y, interval 1d\u001b[0m\n",
      "\u001b[32m2023-10-22 11:25:54.871\u001b[0m | \u001b[1mINFO    \u001b[0m | \u001b[36minvestment_portfolio\u001b[0m:\u001b[36mget_price_history\u001b[0m:\u001b[36m84\u001b[0m - \u001b[1mRetrieving closing prices ADI, period 5y, interval 1d\u001b[0m\n",
      "\u001b[32m2023-10-22 11:25:54.885\u001b[0m | \u001b[1mINFO    \u001b[0m | \u001b[36minvestment_portfolio\u001b[0m:\u001b[36mget_price_history\u001b[0m:\u001b[36m84\u001b[0m - \u001b[1mRetrieving closing prices TXN, period 5y, interval 1d\u001b[0m\n",
      "\u001b[32m2023-10-22 11:25:54.900\u001b[0m | \u001b[1mINFO    \u001b[0m | \u001b[36minvestment_portfolio\u001b[0m:\u001b[36mget_price_history\u001b[0m:\u001b[36m84\u001b[0m - \u001b[1mRetrieving closing prices DIS, period 5y, interval 1d\u001b[0m\n",
      "/home/griff/.cache/pypoetry/virtualenvs/investment-portfolio-6sCrFyC5-py3.11/lib/python3.11/site-packages/pypfopt/efficient_frontier/efficient_frontier.py:259: UserWarning: max_sharpe transforms the optimization problem so additional objectives may not work as expected.\n",
      "  warnings.warn(\n"
     ]
    },
    {
     "data": {
      "text/plain": [
       "OrderedDict([('NFLX', 0.0),\n",
       "             ('GOOG', 0.1605509306967782),\n",
       "             ('SPOT', 0.0),\n",
       "             ('AMD', 0.2323356930324708),\n",
       "             ('NVDA', 0.4515440711072966),\n",
       "             ('INTC', 0.0),\n",
       "             ('ARM', 0.0),\n",
       "             ('SONY', 0.0187967264157007),\n",
       "             ('ADI', 0.1068038077172675),\n",
       "             ('TXN', 0.029968771030486),\n",
       "             ('DIS', 0.0)])"
      ]
     },
     "execution_count": 2,
     "metadata": {},
     "output_type": "execute_result"
    }
   ],
   "source": [
    "import pypfopt\n",
    "from pypfopt import expected_returns\n",
    "from pypfopt import objective_functions\n",
    "\n",
    "from investment_portfolio import get_price_history\n",
    "\n",
    "\n",
    "closing_history = get_price_history(\n",
    "    (\"NFLX\", \"GOOG\", \"SPOT\", \"AMD\", \"NVDA\", \"INTC\", \"ARM\", \"SONY\", \"ADI\", \"TXN\", \"DIS\"),\n",
    "    \"5y\",\n",
    "    \"1d\",\n",
    ")\n",
    "expected_returns_mu = expected_returns.mean_historical_return(closing_history)\n",
    "cov_mat_s = pypfopt.risk_models.CovarianceShrinkage(closing_history).ledoit_wolf()\n",
    "ef = pypfopt.efficient_frontier.EfficientFrontier(expected_returns_mu, cov_mat_s)\n",
    "ef.add_objective(objective_functions.L2_reg, gamma=1)\n",
    "ef.max_sharpe()"
   ]
  },
  {
   "cell_type": "code",
   "execution_count": 3,
   "id": "6fdde0de",
   "metadata": {},
   "outputs": [
    {
     "name": "stdout",
     "output_type": "stream",
     "text": [
      "Expected annual return: 35.1%\n",
      "Annual volatility: 42.2%\n",
      "Sharpe Ratio: 0.78\n"
     ]
    },
    {
     "data": {
      "text/plain": [
       "(0.3506858037823954, 0.42184417254122447, 0.7839051130902591)"
      ]
     },
     "execution_count": 3,
     "metadata": {},
     "output_type": "execute_result"
    }
   ],
   "source": [
    "ef.portfolio_performance(verbose=True)"
   ]
  },
  {
   "cell_type": "markdown",
   "id": "a8a633d5-c780-4d08-855f-17c2aa38a533",
   "metadata": {},
   "source": [
    "This portfolio does not have a great return given the risk. Leads to a low Sharpe ratio. Volotility is very high."
   ]
  },
  {
   "cell_type": "code",
   "execution_count": 7,
   "id": "19fb2151",
   "metadata": {},
   "outputs": [
    {
     "ename": "OSError",
     "evalue": "'seaborn-deep' is not a valid package style, path of style file, URL of style file, or library style name (library styles are listed in `style.available`)",
     "output_type": "error",
     "traceback": [
      "\u001b[0;31m---------------------------------------------------------------------------\u001b[0m",
      "\u001b[0;31mFileNotFoundError\u001b[0m                         Traceback (most recent call last)",
      "File \u001b[0;32m~/.cache/pypoetry/virtualenvs/investment-portfolio-6sCrFyC5-py3.11/lib/python3.11/site-packages/matplotlib/style/core.py:137\u001b[0m, in \u001b[0;36muse\u001b[0;34m(style)\u001b[0m\n\u001b[1;32m    136\u001b[0m \u001b[38;5;28;01mtry\u001b[39;00m:\n\u001b[0;32m--> 137\u001b[0m     style \u001b[38;5;241m=\u001b[39m \u001b[43m_rc_params_in_file\u001b[49m\u001b[43m(\u001b[49m\u001b[43mstyle\u001b[49m\u001b[43m)\u001b[49m\n\u001b[1;32m    138\u001b[0m \u001b[38;5;28;01mexcept\u001b[39;00m \u001b[38;5;167;01mOSError\u001b[39;00m \u001b[38;5;28;01mas\u001b[39;00m err:\n",
      "File \u001b[0;32m~/.cache/pypoetry/virtualenvs/investment-portfolio-6sCrFyC5-py3.11/lib/python3.11/site-packages/matplotlib/__init__.py:866\u001b[0m, in \u001b[0;36m_rc_params_in_file\u001b[0;34m(fname, transform, fail_on_error)\u001b[0m\n\u001b[1;32m    865\u001b[0m rc_temp \u001b[38;5;241m=\u001b[39m {}\n\u001b[0;32m--> 866\u001b[0m \u001b[43m\u001b[49m\u001b[38;5;28;43;01mwith\u001b[39;49;00m\u001b[43m \u001b[49m\u001b[43m_open_file_or_url\u001b[49m\u001b[43m(\u001b[49m\u001b[43mfname\u001b[49m\u001b[43m)\u001b[49m\u001b[43m \u001b[49m\u001b[38;5;28;43;01mas\u001b[39;49;00m\u001b[43m \u001b[49m\u001b[43mfd\u001b[49m\u001b[43m:\u001b[49m\n\u001b[1;32m    867\u001b[0m \u001b[43m    \u001b[49m\u001b[38;5;28;43;01mtry\u001b[39;49;00m\u001b[43m:\u001b[49m\n",
      "File \u001b[0;32m/usr/lib/python3.11/contextlib.py:137\u001b[0m, in \u001b[0;36m_GeneratorContextManager.__enter__\u001b[0;34m(self)\u001b[0m\n\u001b[1;32m    136\u001b[0m \u001b[38;5;28;01mtry\u001b[39;00m:\n\u001b[0;32m--> 137\u001b[0m     \u001b[38;5;28;01mreturn\u001b[39;00m \u001b[38;5;28mnext\u001b[39m(\u001b[38;5;28mself\u001b[39m\u001b[38;5;241m.\u001b[39mgen)\n\u001b[1;32m    138\u001b[0m \u001b[38;5;28;01mexcept\u001b[39;00m \u001b[38;5;167;01mStopIteration\u001b[39;00m:\n",
      "File \u001b[0;32m~/.cache/pypoetry/virtualenvs/investment-portfolio-6sCrFyC5-py3.11/lib/python3.11/site-packages/matplotlib/__init__.py:843\u001b[0m, in \u001b[0;36m_open_file_or_url\u001b[0;34m(fname)\u001b[0m\n\u001b[1;32m    842\u001b[0m fname \u001b[38;5;241m=\u001b[39m os\u001b[38;5;241m.\u001b[39mpath\u001b[38;5;241m.\u001b[39mexpanduser(fname)\n\u001b[0;32m--> 843\u001b[0m \u001b[38;5;28;01mwith\u001b[39;00m \u001b[38;5;28mopen\u001b[39m(fname, encoding\u001b[38;5;241m=\u001b[39m\u001b[38;5;124m'\u001b[39m\u001b[38;5;124mutf-8\u001b[39m\u001b[38;5;124m'\u001b[39m) \u001b[38;5;28;01mas\u001b[39;00m f:\n\u001b[1;32m    844\u001b[0m     \u001b[38;5;28;01myield\u001b[39;00m f\n",
      "\u001b[0;31mFileNotFoundError\u001b[0m: [Errno 2] No such file or directory: 'seaborn-deep'",
      "\nThe above exception was the direct cause of the following exception:\n",
      "\u001b[0;31mOSError\u001b[0m                                   Traceback (most recent call last)",
      "Cell \u001b[0;32mIn[7], line 2\u001b[0m\n\u001b[1;32m      1\u001b[0m \u001b[38;5;28;01mfrom\u001b[39;00m \u001b[38;5;21;01mmatplotlib\u001b[39;00m \u001b[38;5;28;01mimport\u001b[39;00m pyplot\n\u001b[0;32m----> 2\u001b[0m \u001b[38;5;28;01mfrom\u001b[39;00m \u001b[38;5;21;01mpypfopt\u001b[39;00m \u001b[38;5;28;01mimport\u001b[39;00m plotting\n\u001b[1;32m      4\u001b[0m fig, ax \u001b[38;5;241m=\u001b[39m pyplot\u001b[38;5;241m.\u001b[39msubplots()\n\u001b[1;32m      5\u001b[0m plotting\u001b[38;5;241m.\u001b[39mplot_efficient_frontier(ef, ax\u001b[38;5;241m=\u001b[39max, show_assets\u001b[38;5;241m=\u001b[39m\u001b[38;5;28;01mTrue\u001b[39;00m)\n",
      "File \u001b[0;32m~/.cache/pypoetry/virtualenvs/investment-portfolio-6sCrFyC5-py3.11/lib/python3.11/site-packages/pypfopt/plotting.py:21\u001b[0m\n\u001b[1;32m     18\u001b[0m \u001b[38;5;28;01mtry\u001b[39;00m:\n\u001b[1;32m     19\u001b[0m     \u001b[38;5;28;01mimport\u001b[39;00m \u001b[38;5;21;01mmatplotlib\u001b[39;00m\u001b[38;5;21;01m.\u001b[39;00m\u001b[38;5;21;01mpyplot\u001b[39;00m \u001b[38;5;28;01mas\u001b[39;00m \u001b[38;5;21;01mplt\u001b[39;00m\n\u001b[0;32m---> 21\u001b[0m     \u001b[43mplt\u001b[49m\u001b[38;5;241;43m.\u001b[39;49m\u001b[43mstyle\u001b[49m\u001b[38;5;241;43m.\u001b[39;49m\u001b[43muse\u001b[49m\u001b[43m(\u001b[49m\u001b[38;5;124;43m\"\u001b[39;49m\u001b[38;5;124;43mseaborn-deep\u001b[39;49m\u001b[38;5;124;43m\"\u001b[39;49m\u001b[43m)\u001b[49m\n\u001b[1;32m     22\u001b[0m \u001b[38;5;28;01mexcept\u001b[39;00m (\u001b[38;5;167;01mModuleNotFoundError\u001b[39;00m, \u001b[38;5;167;01mImportError\u001b[39;00m):  \u001b[38;5;66;03m# pragma: no cover\u001b[39;00m\n\u001b[1;32m     23\u001b[0m     \u001b[38;5;28;01mraise\u001b[39;00m \u001b[38;5;167;01mImportError\u001b[39;00m(\u001b[38;5;124m\"\u001b[39m\u001b[38;5;124mPlease install matplotlib via pip or poetry\u001b[39m\u001b[38;5;124m\"\u001b[39m)\n",
      "File \u001b[0;32m~/.cache/pypoetry/virtualenvs/investment-portfolio-6sCrFyC5-py3.11/lib/python3.11/site-packages/matplotlib/style/core.py:139\u001b[0m, in \u001b[0;36muse\u001b[0;34m(style)\u001b[0m\n\u001b[1;32m    137\u001b[0m         style \u001b[38;5;241m=\u001b[39m _rc_params_in_file(style)\n\u001b[1;32m    138\u001b[0m     \u001b[38;5;28;01mexcept\u001b[39;00m \u001b[38;5;167;01mOSError\u001b[39;00m \u001b[38;5;28;01mas\u001b[39;00m err:\n\u001b[0;32m--> 139\u001b[0m         \u001b[38;5;28;01mraise\u001b[39;00m \u001b[38;5;167;01mOSError\u001b[39;00m(\n\u001b[1;32m    140\u001b[0m             \u001b[38;5;124mf\u001b[39m\u001b[38;5;124m\"\u001b[39m\u001b[38;5;132;01m{\u001b[39;00mstyle\u001b[38;5;132;01m!r}\u001b[39;00m\u001b[38;5;124m is not a valid package style, path of style \u001b[39m\u001b[38;5;124m\"\u001b[39m\n\u001b[1;32m    141\u001b[0m             \u001b[38;5;124mf\u001b[39m\u001b[38;5;124m\"\u001b[39m\u001b[38;5;124mfile, URL of style file, or library style name (library \u001b[39m\u001b[38;5;124m\"\u001b[39m\n\u001b[1;32m    142\u001b[0m             \u001b[38;5;124mf\u001b[39m\u001b[38;5;124m\"\u001b[39m\u001b[38;5;124mstyles are listed in `style.available`)\u001b[39m\u001b[38;5;124m\"\u001b[39m) \u001b[38;5;28;01mfrom\u001b[39;00m \u001b[38;5;21;01merr\u001b[39;00m\n\u001b[1;32m    143\u001b[0m filtered \u001b[38;5;241m=\u001b[39m {}\n\u001b[1;32m    144\u001b[0m \u001b[38;5;28;01mfor\u001b[39;00m k \u001b[38;5;129;01min\u001b[39;00m style:  \u001b[38;5;66;03m# don't trigger RcParams.__getitem__('backend')\u001b[39;00m\n",
      "\u001b[0;31mOSError\u001b[0m: 'seaborn-deep' is not a valid package style, path of style file, URL of style file, or library style name (library styles are listed in `style.available`)"
     ]
    }
   ],
   "source": [
    "from matplotlib import pyplot\n",
    "from pypfopt import plotting\n",
    "\n",
    "fig, ax = pyplot.subplots()\n",
    "plotting.plot_efficient_frontier(ef, ax=ax, show_assets=True)\n",
    "pyplot.show()"
   ]
  },
  {
   "cell_type": "markdown",
   "id": "699f7041-0fe9-4b1c-adce-68368fd7c21b",
   "metadata": {},
   "source": [
    "This is broken. Might want to submit a PR. See [link](https://github.com/robertmartin8/PyPortfolioOpt/issues/562)."
   ]
  }
 ],
 "metadata": {
  "jupytext": {
   "formats": "ipynb,py:percent"
  },
  "kernelspec": {
   "display_name": "Python 3 (ipykernel)",
   "language": "python",
   "name": "python3"
  },
  "language_info": {
   "codemirror_mode": {
    "name": "ipython",
    "version": 3
   },
   "file_extension": ".py",
   "mimetype": "text/x-python",
   "name": "python",
   "nbconvert_exporter": "python",
   "pygments_lexer": "ipython3",
   "version": "3.11.5"
  }
 },
 "nbformat": 4,
 "nbformat_minor": 5
}
